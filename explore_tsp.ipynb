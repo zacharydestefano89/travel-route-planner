{
 "cells": [
  {
   "cell_type": "code",
   "execution_count": 1,
   "id": "initial_id",
   "metadata": {
    "collapsed": true,
    "ExecuteTime": {
     "end_time": "2025-07-12T02:23:43.017621Z",
     "start_time": "2025-07-12T02:23:41.221865Z"
    }
   },
   "outputs": [],
   "source": [
    "import pandas as pd"
   ]
  },
  {
   "cell_type": "markdown",
   "source": [
    "Plan: \n",
    "\n",
    "User selects origin, destination, and stops\n",
    "\n",
    "For each stop, show cost of adding it to the itinerary in both distance and time\n",
    "\n",
    "max num stops is 25 (per the API), in future could expand it\n",
    "\n",
    "num_stops   num_pairs   num_triples\n",
    "5            10           10\n",
    "6            15           20\n",
    "7            21           35\n",
    "\n",
    "Based on above, if there are more than 6 stops, \n",
    "   the number of pairs and triples to display becomes unwieldy\n",
    "   and likely not useful for a user\n",
    "\n",
    "So if num_stops > 6, will only show single stop results\n",
    "    and then let user fill in mandatory stops\n",
    "\n",
    "\n",
    "Code execution will do the following: \n",
    "- Show the cost of each stop individually \n",
    "- User can then select stops to definitely include\n",
    "- UI will then show cost of optional stops not included\n",
    "- Same logic as before, if more than 6, only show single stop result"
   ],
   "metadata": {
    "collapsed": false
   },
   "id": "b7aae9ccb3bf50ae"
  },
  {
   "cell_type": "markdown",
   "source": [
    "So code needs a way to store: \n",
    "\n",
    "- origin\n",
    "- destination\n",
    "- time between stops\n",
    "- origin -> stop time\n",
    "- stop -> destination time\n",
    "\n",
    "Will have 4 distance matrix API calls\n",
    "- origin -> destination\n",
    "- origin -> stops \n",
    "- between all stops\n",
    "- stops -> destination\n",
    "\n",
    "Note: Mapbox API charges by number of cells so the splitting up the calls does not make a huge difference"
   ],
   "metadata": {
    "collapsed": false
   },
   "id": "acad0a1cf7a21ff6"
  },
  {
   "cell_type": "markdown",
   "source": [
    "Note: There are multiple APIs that provide distance matrix calculations\n",
    "\n",
    "Ensure getting the API result is abstracted away from calculation\n",
    "\n",
    "So it is easy to switch to a different API in the future"
   ],
   "metadata": {
    "collapsed": false
   },
   "id": "b371edd448730520"
  },
  {
   "cell_type": "code",
   "outputs": [
    {
     "data": {
      "text/plain": "True"
     },
     "execution_count": 3,
     "metadata": {},
     "output_type": "execute_result"
    }
   ],
   "source": [
    "{1,2,3} == {2,3,1}\n",
    "\n"
   ],
   "metadata": {
    "collapsed": false,
    "ExecuteTime": {
     "end_time": "2025-07-12T03:11:22.915471Z",
     "start_time": "2025-07-12T03:11:22.910698Z"
    }
   },
   "id": "9056c7398a200a5f",
   "execution_count": 3
  },
  {
   "cell_type": "code",
   "outputs": [
    {
     "name": "stdout",
     "output_type": "stream",
     "text": [
      "The original set: {'A', 'C', 'B'}\n",
      "All of its subsets (the power set):\n",
      "('A',)\n",
      "('C',)\n",
      "('B',)\n",
      "('A', 'C')\n",
      "('A', 'B')\n",
      "('C', 'B')\n",
      "('A', 'C', 'B')\n"
     ]
    }
   ],
   "source": [
    "from itertools import chain, combinations\n",
    "\n",
    "def get_all_subsets(input_set):\n",
    "  \"\"\"\n",
    "  Generates all subsets of a set (the power set).\n",
    "\n",
    "  Args:\n",
    "    input_set: An iterable (e.g., a set, list, or tuple).\n",
    "\n",
    "  Returns:\n",
    "    A list of tuples, where each tuple is a subset.\n",
    "  \"\"\"\n",
    "  # Create a sequence of the input iterable\n",
    "  s = list(input_set)\n",
    "  # Generate combinations for each length from 0 to len(s)\n",
    "  # and chain them together into a single iterable.\n",
    "  return list(chain.from_iterable(combinations(s, r) for r in range(1, len(s) + 1)))\n",
    "\n",
    "# --- Example Usage ---\n",
    "\n",
    "my_set = {'A', 'B', 'C'}\n",
    "all_subsets = get_all_subsets(my_set)\n",
    "\n",
    "print(f\"The original set: {my_set}\")\n",
    "print(\"All of its subsets (the power set):\")\n",
    "for subset in all_subsets:\n",
    "    print(subset)\n"
   ],
   "metadata": {
    "collapsed": false,
    "ExecuteTime": {
     "end_time": "2025-07-12T03:14:33.201269Z",
     "start_time": "2025-07-12T03:14:33.196774Z"
    }
   },
   "id": "6fd2a55d8b805e37",
   "execution_count": 5
  },
  {
   "cell_type": "code",
   "outputs": [],
   "source": [],
   "metadata": {
    "collapsed": false
   },
   "id": "9ac1c9add181bb7c"
  },
  {
   "cell_type": "markdown",
   "source": [
    "For each stop store\n",
    "- lat, lng\n",
    "- mapbox_id\n",
    "- geohash\n",
    "- google plus code\n",
    "- uber h3 cell\n",
    "- string identifier\n",
    "- google maps link"
   ],
   "metadata": {
    "collapsed": false
   },
   "id": "c8569cf410f1f5fe"
  },
  {
   "cell_type": "markdown",
   "source": [
    "For each set of stops, store the following: \n",
    "- geohash set as frozen set\n",
    "- stop_ids\n",
    "- for each stop as the last stop, store: \n",
    "    - origin -> stops -> last stop time & distance\n",
    "- store optimal origin -> all stops -> destination route, distance, and time"
   ],
   "metadata": {
    "collapsed": false
   },
   "id": "3d701527c7de1592"
  },
  {
   "cell_type": "markdown",
   "source": [],
   "metadata": {
    "collapsed": false
   },
   "id": "cc87a3a7a1ed1cb1"
  },
  {
   "cell_type": "markdown",
   "source": [],
   "metadata": {
    "collapsed": false
   },
   "id": "b7bf312c746feb52"
  },
  {
   "cell_type": "markdown",
   "source": [
    "Pseudo code: \n",
    "\n",
    "Ref: https://en.wikipedia.org/wiki/Held%E2%80%93Karp_algorithm#Pseudocode\n",
    "\n",
    "Given origin, destination and stops\n",
    "\n",
    "Assume N stops\n",
    "```\n",
    "\n",
    "for k := 2 to n do\n",
    "    g({k}, k) := d(1, k)\n",
    "end for\n",
    "\n",
    "for s := 2 to n do\n",
    "    for all S ⊆ {2, ..., n}, |S| = s do\n",
    "        for all k ∈ S do\n",
    "            g(S, k) := min m≠k,m∈S [g(S\\{k}, m) + d(m, k)]\n",
    "        end for\n",
    "        # store all g(S, k) in the object for |S|\n",
    "        for |S|, store opt_S = min k∈S g(S,k) + d(k, D)\n",
    "    end for\n",
    "end for\n",
    "\n",
    "optimal in general will be return for |S| being whole set of stops\n",
    "```"
   ],
   "metadata": {
    "collapsed": false
   },
   "id": "52f2152526f081b7"
  },
  {
   "cell_type": "code",
   "outputs": [],
   "source": [],
   "metadata": {
    "collapsed": false
   },
   "id": "df6ca297922e1dfd"
  },
  {
   "cell_type": "markdown",
   "source": [
    "All sets of stops will be stored in a dictionary, keyed by frozenset of geohashes \n",
    "\n",
    "To retrieve g(S\\{k}, m), use dictionary to get the right set, then drill into the correct attribute "
   ],
   "metadata": {
    "collapsed": false
   },
   "id": "458059b6e510b4a3"
  },
  {
   "cell_type": "code",
   "outputs": [],
   "source": [],
   "metadata": {
    "collapsed": false
   },
   "id": "600da10a1e0981ac"
  }
 ],
 "metadata": {
  "kernelspec": {
   "display_name": "Python 3",
   "language": "python",
   "name": "python3"
  },
  "language_info": {
   "codemirror_mode": {
    "name": "ipython",
    "version": 2
   },
   "file_extension": ".py",
   "mimetype": "text/x-python",
   "name": "python",
   "nbconvert_exporter": "python",
   "pygments_lexer": "ipython2",
   "version": "2.7.6"
  }
 },
 "nbformat": 4,
 "nbformat_minor": 5
}
